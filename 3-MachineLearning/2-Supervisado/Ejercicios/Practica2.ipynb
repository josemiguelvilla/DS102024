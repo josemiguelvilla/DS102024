{
 "cells": [
  {
   "cell_type": "code",
   "execution_count": 1,
   "metadata": {},
   "outputs": [],
   "source": [
    "import pandas as pd"
   ]
  },
  {
   "cell_type": "code",
   "execution_count": 5,
   "metadata": {},
   "outputs": [
    {
     "name": "stdout",
     "output_type": "stream",
     "text": [
      "                                                   PassengerId,Survived,Pclass,Name,Sex,Age,SibSp,Parch,Ticket,Fare,Cabin,Embarked\n",
      "1,0,3,\"Braund, Mr. Owen Harris\",male,22,1,0,A                                         5 21171,7.25,,S                             \n",
      "2,1,1,\"Cumings, Mrs. John Bradley (Florence Bri...                                                NaN                             \n",
      "3,1,3,\"Heikkinen, Miss. Laina\",female,26,0,0,STON                                O2. 3101282,7.925,,S                             \n",
      "4,1,1,\"Futrelle, Mrs. Jacques Heath (Lily May P...                                                NaN                             \n",
      "5,0,3,\"Allen, Mr. William Henry\",male,35,0,0,37...                                                NaN                             \n"
     ]
    }
   ],
   "source": [
    "import pandas as pd\n",
    "\n",
    "# Reemplaza 'ruta/al/archivo.csv' con la ruta real del archivo descargado\n",
    "df = pd.read_csv('https://raw.githubusercontent.com/datasciencedojo/datasets/refs/heads/master/titanic.csv', delimiter= '/')\n",
    "\n",
    "# Muestra las primeras filas del DataFrame\n",
    "print(df.head())\n"
   ]
  }
 ],
 "metadata": {
  "kernelspec": {
   "display_name": "bootcamp-ds-tib8XOnQ-py3.13",
   "language": "python",
   "name": "python3"
  },
  "language_info": {
   "codemirror_mode": {
    "name": "ipython",
    "version": 3
   },
   "file_extension": ".py",
   "mimetype": "text/x-python",
   "name": "python",
   "nbconvert_exporter": "python",
   "pygments_lexer": "ipython3",
   "version": "3.13.0"
  }
 },
 "nbformat": 4,
 "nbformat_minor": 2
}
