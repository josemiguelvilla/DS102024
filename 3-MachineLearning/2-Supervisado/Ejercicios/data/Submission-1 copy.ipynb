{
 "cells": [
  {
   "cell_type": "markdown",
   "metadata": {},
   "source": [
    "## Pasos a seguri para la realizacion del proyecto:\n",
    "1. Instalar y cargar las librerías necesarias.\n",
    "\n",
    "2. Cargar y explorar los datos (train.csv y test.csv).\n",
    "\n",
    "3️. Preprocesamiento y limpieza de datos.\n",
    "\n",
    "4️. Dividir en conjunto de entrenamiento y validación.\n",
    "\n",
    "5️. Entrenar modelos de regresión y evaluar RMSE.\n",
    "\n",
    "6️. Optimizar el modelo para mejorar la precisión.\n",
    "\n",
    "7️. Hacer predicciones finales y generar submission.csv.\n"
   ]
  },
  {
   "cell_type": "markdown",
   "metadata": {},
   "source": [
    "### Instalar y Cargar Librerías"
   ]
  },
  {
   "cell_type": "code",
   "execution_count": 34,
   "metadata": {},
   "outputs": [
    {
     "name": "stdout",
     "output_type": "stream",
     "text": [
      "Requirement already satisfied: pandas in /Users/josevillarroel/myenv/lib/python3.13/site-packages (2.2.3)\n",
      "Requirement already satisfied: numpy in /Users/josevillarroel/myenv/lib/python3.13/site-packages (2.2.1)\n",
      "Requirement already satisfied: scikit-learn in /Users/josevillarroel/myenv/lib/python3.13/site-packages (1.6.1)\n",
      "Requirement already satisfied: matplotlib in /Users/josevillarroel/myenv/lib/python3.13/site-packages (3.10.0)\n",
      "Requirement already satisfied: seaborn in /Users/josevillarroel/myenv/lib/python3.13/site-packages (0.13.2)\n",
      "Requirement already satisfied: python-dateutil>=2.8.2 in /Users/josevillarroel/myenv/lib/python3.13/site-packages (from pandas) (2.9.0.post0)\n",
      "Requirement already satisfied: pytz>=2020.1 in /Users/josevillarroel/myenv/lib/python3.13/site-packages (from pandas) (2024.2)\n",
      "Requirement already satisfied: tzdata>=2022.7 in /Users/josevillarroel/myenv/lib/python3.13/site-packages (from pandas) (2024.2)\n",
      "Requirement already satisfied: scipy>=1.6.0 in /Users/josevillarroel/myenv/lib/python3.13/site-packages (from scikit-learn) (1.15.1)\n",
      "Requirement already satisfied: joblib>=1.2.0 in /Users/josevillarroel/myenv/lib/python3.13/site-packages (from scikit-learn) (1.4.2)\n",
      "Requirement already satisfied: threadpoolctl>=3.1.0 in /Users/josevillarroel/myenv/lib/python3.13/site-packages (from scikit-learn) (3.5.0)\n",
      "Requirement already satisfied: contourpy>=1.0.1 in /Users/josevillarroel/myenv/lib/python3.13/site-packages (from matplotlib) (1.3.1)\n",
      "Requirement already satisfied: cycler>=0.10 in /Users/josevillarroel/myenv/lib/python3.13/site-packages (from matplotlib) (0.12.1)\n",
      "Requirement already satisfied: fonttools>=4.22.0 in /Users/josevillarroel/myenv/lib/python3.13/site-packages (from matplotlib) (4.55.3)\n",
      "Requirement already satisfied: kiwisolver>=1.3.1 in /Users/josevillarroel/myenv/lib/python3.13/site-packages (from matplotlib) (1.4.8)\n",
      "Requirement already satisfied: packaging>=20.0 in /Users/josevillarroel/myenv/lib/python3.13/site-packages (from matplotlib) (24.2)\n",
      "Requirement already satisfied: pillow>=8 in /Users/josevillarroel/myenv/lib/python3.13/site-packages (from matplotlib) (11.1.0)\n",
      "Requirement already satisfied: pyparsing>=2.3.1 in /Users/josevillarroel/myenv/lib/python3.13/site-packages (from matplotlib) (3.2.1)\n",
      "Requirement already satisfied: six>=1.5 in /Users/josevillarroel/myenv/lib/python3.13/site-packages (from python-dateutil>=2.8.2->pandas) (1.17.0)\n",
      "Note: you may need to restart the kernel to use updated packages.\n"
     ]
    }
   ],
   "source": [
    "pip install pandas numpy scikit-learn matplotlib seaborn\n"
   ]
  },
  {
   "cell_type": "code",
   "execution_count": 35,
   "metadata": {},
   "outputs": [
    {
     "name": "stdout",
     "output_type": "stream",
     "text": [
      "Requirement already satisfied: pip in /Users/josevillarroel/myenv/lib/python3.13/site-packages (25.0)\n",
      "Note: you may need to restart the kernel to use updated packages.\n"
     ]
    }
   ],
   "source": [
    "pip install --upgrade pip"
   ]
  },
  {
   "cell_type": "code",
   "execution_count": 36,
   "metadata": {},
   "outputs": [],
   "source": [
    "# Importamos librerías\n",
    "import pandas as pd\n",
    "import numpy as np\n",
    "import matplotlib.pyplot as plt\n",
    "import seaborn as sns\n",
    "\n",
    "from sklearn.model_selection import train_test_split\n",
    "from sklearn.preprocessing import StandardScaler\n",
    "from sklearn.ensemble import RandomForestRegressor, GradientBoostingRegressor\n",
    "from sklearn.linear_model import LinearRegression, Ridge\n",
    "from sklearn.metrics import mean_squared_error\n"
   ]
  },
  {
   "cell_type": "markdown",
   "metadata": {},
   "source": [
    "### Cargar y Explorar los Datos\n"
   ]
  },
  {
   "cell_type": "code",
   "execution_count": 37,
   "metadata": {},
   "outputs": [
    {
     "name": "stdout",
     "output_type": "stream",
     "text": [
      "🔍 Información del dataset de entrenamiento:\n",
      "<class 'pandas.core.frame.DataFrame'>\n",
      "RangeIndex: 912 entries, 0 to 911\n",
      "Data columns (total 13 columns):\n",
      " #   Column            Non-Null Count  Dtype  \n",
      "---  ------            --------------  -----  \n",
      " 0   laptop_ID         912 non-null    int64  \n",
      " 1   Company           912 non-null    object \n",
      " 2   Product           912 non-null    object \n",
      " 3   TypeName          912 non-null    object \n",
      " 4   Inches            912 non-null    float64\n",
      " 5   ScreenResolution  912 non-null    object \n",
      " 6   Cpu               912 non-null    object \n",
      " 7   Ram               912 non-null    object \n",
      " 8   Memory            912 non-null    object \n",
      " 9   Gpu               912 non-null    object \n",
      " 10  OpSys             912 non-null    object \n",
      " 11  Weight            912 non-null    object \n",
      " 12  Price_euros       912 non-null    float64\n",
      "dtypes: float64(2), int64(1), object(10)\n",
      "memory usage: 92.8+ KB\n",
      "None\n",
      "\n",
      "🔍 Información del dataset de prueba:\n",
      "<class 'pandas.core.frame.DataFrame'>\n",
      "RangeIndex: 391 entries, 0 to 390\n",
      "Data columns (total 12 columns):\n",
      " #   Column            Non-Null Count  Dtype  \n",
      "---  ------            --------------  -----  \n",
      " 0   laptop_ID         391 non-null    int64  \n",
      " 1   Company           391 non-null    object \n",
      " 2   Product           391 non-null    object \n",
      " 3   TypeName          391 non-null    object \n",
      " 4   Inches            391 non-null    float64\n",
      " 5   ScreenResolution  391 non-null    object \n",
      " 6   Cpu               391 non-null    object \n",
      " 7   Ram               391 non-null    object \n",
      " 8   Memory            391 non-null    object \n",
      " 9   Gpu               391 non-null    object \n",
      " 10  OpSys             391 non-null    object \n",
      " 11  Weight            391 non-null    object \n",
      "dtypes: float64(1), int64(1), object(10)\n",
      "memory usage: 36.8+ KB\n",
      "None\n",
      "\n",
      "📊 Primeras filas del train.csv:\n",
      "   laptop_ID Company             Product            TypeName  Inches  \\\n",
      "0       1223    Dell       Inspiron 5567            Notebook    15.6   \n",
      "1         78  Lenovo  IdeaPad 320-15IKBN            Notebook    15.6   \n",
      "2       1267    Dell              XPS 13  2 in 1 Convertible    13.3   \n",
      "3        161    Dell       Inspiron 5579  2 in 1 Convertible    15.6   \n",
      "4        922      LG         Gram 14Z970           Ultrabook    14.0   \n",
      "\n",
      "                            ScreenResolution                         Cpu  Ram  \\\n",
      "0                          Full HD 1920x1080  Intel Core i5 7200U 2.5GHz  8GB   \n",
      "1                          Full HD 1920x1080  Intel Core i5 7200U 2.5GHz  8GB   \n",
      "2           Quad HD+ / Touchscreen 3200x1800   Intel Core i5 7Y54 1.2GHz  8GB   \n",
      "3            Full HD / Touchscreen 1920x1080  Intel Core i7 8550U 1.8GHz  8GB   \n",
      "4  IPS Panel Full HD / Touchscreen 1920x1080  Intel Core i7 7500U 2.7GHz  8GB   \n",
      "\n",
      "      Memory                     Gpu       OpSys  Weight  Price_euros  \n",
      "0  256GB SSD      AMD Radeon R7 M445  Windows 10  2.36kg        889.0  \n",
      "1    2TB HDD   Intel HD Graphics 620       No OS   2.2kg        519.0  \n",
      "2  256GB SSD   Intel HD Graphics 615  Windows 10  1.24kg       1813.0  \n",
      "3  256GB SSD  Intel UHD Graphics 620  Windows 10  1.56kg       1049.0  \n",
      "4  512GB SSD   Intel HD Graphics 620  Windows 10  0.98kg       1899.0  \n",
      "\n",
      "📊 Primeras filas del test.csv:\n",
      "   laptop_ID   Company                 Product   TypeName  Inches  \\\n",
      "0        539      Asus  Zenbook UX510UW-FI095T   Notebook    15.6   \n",
      "1        327      Asus  ZenBook UX410UA-GV183T   Notebook    14.0   \n",
      "2        563  Mediacom           SmartBook 130   Notebook    13.3   \n",
      "3         13     Apple             MacBook Pro  Ultrabook    15.4   \n",
      "4        935        HP           EliteBook 850  Ultrabook    15.6   \n",
      "\n",
      "                     ScreenResolution                          Cpu   Ram  \\\n",
      "0     IPS Panel 4K Ultra HD 3840x2160   Intel Core i7 7500U 2.7GHz   8GB   \n",
      "1                   Full HD 1920x1080   Intel Core i7 7500U 2.7GHz   8GB   \n",
      "2         IPS Panel Full HD 1920x1080  Intel Atom x5-Z8350 1.44GHz   4GB   \n",
      "3  IPS Panel Retina Display 2880x1800         Intel Core i7 2.8GHz  16GB   \n",
      "4                   Full HD 1920x1080   Intel Core i7 6500U 2.5GHz   8GB   \n",
      "\n",
      "                 Memory                      Gpu       OpSys  Weight  \n",
      "0  256GB SSD +  1TB HDD  Nvidia GeForce GTX 960M  Windows 10     2kg  \n",
      "1             256GB SSD    Intel HD Graphics 620  Windows 10     2kg  \n",
      "2    32GB Flash Storage        Intel HD Graphics  Windows 10  1.35kg  \n",
      "3             256GB SSD       AMD Radeon Pro 555       macOS  1.83kg  \n",
      "4             256GB SSD      AMD Radeon R7 M365X  Windows 10  1.84kg  \n"
     ]
    }
   ],
   "source": [
    "# Datasets\n",
    "train_df = pd.read_csv(\"/Users/josevillarroel/Desktop/Curso/DS102024/3-MachineLearning/2-Supervisado/Ejercicios/train copy.csv\")\n",
    "test_df = pd.read_csv(\"/Users/josevillarroel/Desktop/Curso/DS102024/3-MachineLearning/2-Supervisado/Ejercicios/data/test copy.csv\")\n",
    "\n",
    "# Información general\n",
    "print(\"🔍 Información del dataset de entrenamiento:\")\n",
    "print(train_df.info())\n",
    "\n",
    "print(\"\\n🔍 Información del dataset de prueba:\")\n",
    "print(test_df.info())\n",
    "\n",
    "# Primeras filas\n",
    "print(\"\\n📊 Primeras filas del train.csv:\")\n",
    "print(train_df.head())\n",
    "\n",
    "print(\"\\n📊 Primeras filas del test.csv:\")\n",
    "print(test_df.head())\n"
   ]
  },
  {
   "cell_type": "markdown",
   "metadata": {},
   "source": [
    "### Que no se nos olvide que queremos predecir la variable Price_euros "
   ]
  },
  {
   "cell_type": "markdown",
   "metadata": {},
   "source": [
    "## Preprocesamiento y Limpieza de Datos"
   ]
  },
  {
   "cell_type": "markdown",
   "metadata": {},
   "source": [
    "#### Conversión de datos:\n",
    "Algunas columnas están en formato de texto pero deberían ser numéricas:"
   ]
  },
  {
   "cell_type": "code",
   "execution_count": 38,
   "metadata": {},
   "outputs": [],
   "source": [
    "# Convertir 'Ram' y 'Weight' a valores numéricos\n",
    "train_df[\"Ram\"] = train_df[\"Ram\"].str.replace(\"GB\", \"\").astype(int)\n",
    "test_df[\"Ram\"] = test_df[\"Ram\"].str.replace(\"GB\", \"\").astype(int)\n",
    "\n",
    "train_df[\"Weight\"] = train_df[\"Weight\"].str.replace(\"kg\", \"\").astype(float)\n",
    "test_df[\"Weight\"] = test_df[\"Weight\"].str.replace(\"kg\", \"\").astype(float)\n"
   ]
  },
  {
   "cell_type": "markdown",
   "metadata": {},
   "source": [
    "### Vamos a extraer características de CPU y Memoria"
   ]
  },
  {
   "cell_type": "code",
   "execution_count": 39,
   "metadata": {},
   "outputs": [],
   "source": [
    "# Extraer la marca del procesador\n",
    "train_df[\"Cpu_brand\"] = train_df[\"Cpu\"].apply(lambda x: x.split()[0])\n",
    "test_df[\"Cpu_brand\"] = test_df[\"Cpu\"].apply(lambda x: x.split()[0])\n",
    "\n",
    "# Extraer tipo de almacenamiento de 'Memory'\n",
    "def process_memory(memory):\n",
    "    if \"SSD\" in memory:\n",
    "        return \"SSD\"\n",
    "    elif \"HDD\" in memory:\n",
    "        return \"HDD\"\n",
    "    elif \"Flash\" in memory:\n",
    "        return \"Flash\"\n",
    "    else:\n",
    "        return \"Other\"\n",
    "\n",
    "train_df[\"Memory_type\"] = train_df[\"Memory\"].apply(process_memory)\n",
    "test_df[\"Memory_type\"] = test_df[\"Memory\"].apply(process_memory)\n"
   ]
  },
  {
   "cell_type": "markdown",
   "metadata": {},
   "source": [
    "### Eliminar columnas irrelevantes"
   ]
  },
  {
   "cell_type": "code",
   "execution_count": 40,
   "metadata": {},
   "outputs": [],
   "source": [
    "drop_columns = [\"laptop_ID\", \"Product\", \"ScreenResolution\", \"Cpu\", \"Memory\", \"Gpu\"]\n",
    "train_df.drop(columns=drop_columns, inplace=True)\n",
    "test_df.drop(columns=drop_columns, inplace=True)\n"
   ]
  },
  {
   "cell_type": "code",
   "execution_count": 41,
   "metadata": {},
   "outputs": [
    {
     "data": {
      "text/html": [
       "<div>\n",
       "<style scoped>\n",
       "    .dataframe tbody tr th:only-of-type {\n",
       "        vertical-align: middle;\n",
       "    }\n",
       "\n",
       "    .dataframe tbody tr th {\n",
       "        vertical-align: top;\n",
       "    }\n",
       "\n",
       "    .dataframe thead th {\n",
       "        text-align: right;\n",
       "    }\n",
       "</style>\n",
       "<table border=\"1\" class=\"dataframe\">\n",
       "  <thead>\n",
       "    <tr style=\"text-align: right;\">\n",
       "      <th></th>\n",
       "      <th>Company</th>\n",
       "      <th>TypeName</th>\n",
       "      <th>Inches</th>\n",
       "      <th>Ram</th>\n",
       "      <th>OpSys</th>\n",
       "      <th>Weight</th>\n",
       "      <th>Price_euros</th>\n",
       "      <th>Cpu_brand</th>\n",
       "      <th>Memory_type</th>\n",
       "    </tr>\n",
       "  </thead>\n",
       "  <tbody>\n",
       "    <tr>\n",
       "      <th>0</th>\n",
       "      <td>Dell</td>\n",
       "      <td>Notebook</td>\n",
       "      <td>15.6</td>\n",
       "      <td>8</td>\n",
       "      <td>Windows 10</td>\n",
       "      <td>2.36</td>\n",
       "      <td>889.00</td>\n",
       "      <td>Intel</td>\n",
       "      <td>SSD</td>\n",
       "    </tr>\n",
       "    <tr>\n",
       "      <th>1</th>\n",
       "      <td>Lenovo</td>\n",
       "      <td>Notebook</td>\n",
       "      <td>15.6</td>\n",
       "      <td>8</td>\n",
       "      <td>No OS</td>\n",
       "      <td>2.20</td>\n",
       "      <td>519.00</td>\n",
       "      <td>Intel</td>\n",
       "      <td>HDD</td>\n",
       "    </tr>\n",
       "    <tr>\n",
       "      <th>2</th>\n",
       "      <td>Dell</td>\n",
       "      <td>2 in 1 Convertible</td>\n",
       "      <td>13.3</td>\n",
       "      <td>8</td>\n",
       "      <td>Windows 10</td>\n",
       "      <td>1.24</td>\n",
       "      <td>1813.00</td>\n",
       "      <td>Intel</td>\n",
       "      <td>SSD</td>\n",
       "    </tr>\n",
       "    <tr>\n",
       "      <th>3</th>\n",
       "      <td>Dell</td>\n",
       "      <td>2 in 1 Convertible</td>\n",
       "      <td>15.6</td>\n",
       "      <td>8</td>\n",
       "      <td>Windows 10</td>\n",
       "      <td>1.56</td>\n",
       "      <td>1049.00</td>\n",
       "      <td>Intel</td>\n",
       "      <td>SSD</td>\n",
       "    </tr>\n",
       "    <tr>\n",
       "      <th>4</th>\n",
       "      <td>LG</td>\n",
       "      <td>Ultrabook</td>\n",
       "      <td>14.0</td>\n",
       "      <td>8</td>\n",
       "      <td>Windows 10</td>\n",
       "      <td>0.98</td>\n",
       "      <td>1899.00</td>\n",
       "      <td>Intel</td>\n",
       "      <td>SSD</td>\n",
       "    </tr>\n",
       "    <tr>\n",
       "      <th>...</th>\n",
       "      <td>...</td>\n",
       "      <td>...</td>\n",
       "      <td>...</td>\n",
       "      <td>...</td>\n",
       "      <td>...</td>\n",
       "      <td>...</td>\n",
       "      <td>...</td>\n",
       "      <td>...</td>\n",
       "      <td>...</td>\n",
       "    </tr>\n",
       "    <tr>\n",
       "      <th>907</th>\n",
       "      <td>Lenovo</td>\n",
       "      <td>Notebook</td>\n",
       "      <td>15.6</td>\n",
       "      <td>4</td>\n",
       "      <td>Windows 10</td>\n",
       "      <td>2.20</td>\n",
       "      <td>399.00</td>\n",
       "      <td>AMD</td>\n",
       "      <td>SSD</td>\n",
       "    </tr>\n",
       "    <tr>\n",
       "      <th>908</th>\n",
       "      <td>Lenovo</td>\n",
       "      <td>2 in 1 Convertible</td>\n",
       "      <td>13.3</td>\n",
       "      <td>16</td>\n",
       "      <td>Windows 10</td>\n",
       "      <td>1.30</td>\n",
       "      <td>1799.00</td>\n",
       "      <td>Intel</td>\n",
       "      <td>SSD</td>\n",
       "    </tr>\n",
       "    <tr>\n",
       "      <th>909</th>\n",
       "      <td>Dell</td>\n",
       "      <td>Notebook</td>\n",
       "      <td>15.6</td>\n",
       "      <td>16</td>\n",
       "      <td>Windows 10</td>\n",
       "      <td>1.93</td>\n",
       "      <td>1537.39</td>\n",
       "      <td>Intel</td>\n",
       "      <td>SSD</td>\n",
       "    </tr>\n",
       "    <tr>\n",
       "      <th>910</th>\n",
       "      <td>Lenovo</td>\n",
       "      <td>Gaming</td>\n",
       "      <td>15.6</td>\n",
       "      <td>8</td>\n",
       "      <td>No OS</td>\n",
       "      <td>2.40</td>\n",
       "      <td>989.00</td>\n",
       "      <td>Intel</td>\n",
       "      <td>SSD</td>\n",
       "    </tr>\n",
       "    <tr>\n",
       "      <th>911</th>\n",
       "      <td>Dell</td>\n",
       "      <td>Notebook</td>\n",
       "      <td>17.3</td>\n",
       "      <td>8</td>\n",
       "      <td>Linux</td>\n",
       "      <td>2.80</td>\n",
       "      <td>889.00</td>\n",
       "      <td>Intel</td>\n",
       "      <td>SSD</td>\n",
       "    </tr>\n",
       "  </tbody>\n",
       "</table>\n",
       "<p>912 rows × 9 columns</p>\n",
       "</div>"
      ],
      "text/plain": [
       "    Company            TypeName  Inches  Ram       OpSys  Weight  Price_euros  \\\n",
       "0      Dell            Notebook    15.6    8  Windows 10    2.36       889.00   \n",
       "1    Lenovo            Notebook    15.6    8       No OS    2.20       519.00   \n",
       "2      Dell  2 in 1 Convertible    13.3    8  Windows 10    1.24      1813.00   \n",
       "3      Dell  2 in 1 Convertible    15.6    8  Windows 10    1.56      1049.00   \n",
       "4        LG           Ultrabook    14.0    8  Windows 10    0.98      1899.00   \n",
       "..      ...                 ...     ...  ...         ...     ...          ...   \n",
       "907  Lenovo            Notebook    15.6    4  Windows 10    2.20       399.00   \n",
       "908  Lenovo  2 in 1 Convertible    13.3   16  Windows 10    1.30      1799.00   \n",
       "909    Dell            Notebook    15.6   16  Windows 10    1.93      1537.39   \n",
       "910  Lenovo              Gaming    15.6    8       No OS    2.40       989.00   \n",
       "911    Dell            Notebook    17.3    8       Linux    2.80       889.00   \n",
       "\n",
       "    Cpu_brand Memory_type  \n",
       "0       Intel         SSD  \n",
       "1       Intel         HDD  \n",
       "2       Intel         SSD  \n",
       "3       Intel         SSD  \n",
       "4       Intel         SSD  \n",
       "..        ...         ...  \n",
       "907       AMD         SSD  \n",
       "908     Intel         SSD  \n",
       "909     Intel         SSD  \n",
       "910     Intel         SSD  \n",
       "911     Intel         SSD  \n",
       "\n",
       "[912 rows x 9 columns]"
      ]
     },
     "execution_count": 41,
     "metadata": {},
     "output_type": "execute_result"
    }
   ],
   "source": [
    "train_df"
   ]
  },
  {
   "cell_type": "code",
   "execution_count": 42,
   "metadata": {},
   "outputs": [
    {
     "data": {
      "text/html": [
       "<div>\n",
       "<style scoped>\n",
       "    .dataframe tbody tr th:only-of-type {\n",
       "        vertical-align: middle;\n",
       "    }\n",
       "\n",
       "    .dataframe tbody tr th {\n",
       "        vertical-align: top;\n",
       "    }\n",
       "\n",
       "    .dataframe thead th {\n",
       "        text-align: right;\n",
       "    }\n",
       "</style>\n",
       "<table border=\"1\" class=\"dataframe\">\n",
       "  <thead>\n",
       "    <tr style=\"text-align: right;\">\n",
       "      <th></th>\n",
       "      <th>Company</th>\n",
       "      <th>TypeName</th>\n",
       "      <th>Inches</th>\n",
       "      <th>Ram</th>\n",
       "      <th>OpSys</th>\n",
       "      <th>Weight</th>\n",
       "      <th>Cpu_brand</th>\n",
       "      <th>Memory_type</th>\n",
       "    </tr>\n",
       "  </thead>\n",
       "  <tbody>\n",
       "    <tr>\n",
       "      <th>0</th>\n",
       "      <td>Asus</td>\n",
       "      <td>Notebook</td>\n",
       "      <td>15.6</td>\n",
       "      <td>8</td>\n",
       "      <td>Windows 10</td>\n",
       "      <td>2.00</td>\n",
       "      <td>Intel</td>\n",
       "      <td>SSD</td>\n",
       "    </tr>\n",
       "    <tr>\n",
       "      <th>1</th>\n",
       "      <td>Asus</td>\n",
       "      <td>Notebook</td>\n",
       "      <td>14.0</td>\n",
       "      <td>8</td>\n",
       "      <td>Windows 10</td>\n",
       "      <td>2.00</td>\n",
       "      <td>Intel</td>\n",
       "      <td>SSD</td>\n",
       "    </tr>\n",
       "    <tr>\n",
       "      <th>2</th>\n",
       "      <td>Mediacom</td>\n",
       "      <td>Notebook</td>\n",
       "      <td>13.3</td>\n",
       "      <td>4</td>\n",
       "      <td>Windows 10</td>\n",
       "      <td>1.35</td>\n",
       "      <td>Intel</td>\n",
       "      <td>Flash</td>\n",
       "    </tr>\n",
       "    <tr>\n",
       "      <th>3</th>\n",
       "      <td>Apple</td>\n",
       "      <td>Ultrabook</td>\n",
       "      <td>15.4</td>\n",
       "      <td>16</td>\n",
       "      <td>macOS</td>\n",
       "      <td>1.83</td>\n",
       "      <td>Intel</td>\n",
       "      <td>SSD</td>\n",
       "    </tr>\n",
       "    <tr>\n",
       "      <th>4</th>\n",
       "      <td>HP</td>\n",
       "      <td>Ultrabook</td>\n",
       "      <td>15.6</td>\n",
       "      <td>8</td>\n",
       "      <td>Windows 10</td>\n",
       "      <td>1.84</td>\n",
       "      <td>Intel</td>\n",
       "      <td>SSD</td>\n",
       "    </tr>\n",
       "    <tr>\n",
       "      <th>...</th>\n",
       "      <td>...</td>\n",
       "      <td>...</td>\n",
       "      <td>...</td>\n",
       "      <td>...</td>\n",
       "      <td>...</td>\n",
       "      <td>...</td>\n",
       "      <td>...</td>\n",
       "      <td>...</td>\n",
       "    </tr>\n",
       "    <tr>\n",
       "      <th>386</th>\n",
       "      <td>Lenovo</td>\n",
       "      <td>Notebook</td>\n",
       "      <td>13.3</td>\n",
       "      <td>8</td>\n",
       "      <td>Windows 10</td>\n",
       "      <td>1.44</td>\n",
       "      <td>Intel</td>\n",
       "      <td>SSD</td>\n",
       "    </tr>\n",
       "    <tr>\n",
       "      <th>387</th>\n",
       "      <td>Dell</td>\n",
       "      <td>Ultrabook</td>\n",
       "      <td>13.3</td>\n",
       "      <td>8</td>\n",
       "      <td>Windows 10</td>\n",
       "      <td>1.20</td>\n",
       "      <td>Intel</td>\n",
       "      <td>SSD</td>\n",
       "    </tr>\n",
       "    <tr>\n",
       "      <th>388</th>\n",
       "      <td>Lenovo</td>\n",
       "      <td>Notebook</td>\n",
       "      <td>15.6</td>\n",
       "      <td>6</td>\n",
       "      <td>Windows 10</td>\n",
       "      <td>2.40</td>\n",
       "      <td>Intel</td>\n",
       "      <td>SSD</td>\n",
       "    </tr>\n",
       "    <tr>\n",
       "      <th>389</th>\n",
       "      <td>HP</td>\n",
       "      <td>Notebook</td>\n",
       "      <td>14.0</td>\n",
       "      <td>8</td>\n",
       "      <td>Windows 7</td>\n",
       "      <td>1.43</td>\n",
       "      <td>Intel</td>\n",
       "      <td>SSD</td>\n",
       "    </tr>\n",
       "    <tr>\n",
       "      <th>390</th>\n",
       "      <td>Lenovo</td>\n",
       "      <td>Notebook</td>\n",
       "      <td>15.6</td>\n",
       "      <td>8</td>\n",
       "      <td>Windows 10</td>\n",
       "      <td>1.99</td>\n",
       "      <td>Intel</td>\n",
       "      <td>SSD</td>\n",
       "    </tr>\n",
       "  </tbody>\n",
       "</table>\n",
       "<p>391 rows × 8 columns</p>\n",
       "</div>"
      ],
      "text/plain": [
       "      Company   TypeName  Inches  Ram       OpSys  Weight Cpu_brand  \\\n",
       "0        Asus   Notebook    15.6    8  Windows 10    2.00     Intel   \n",
       "1        Asus   Notebook    14.0    8  Windows 10    2.00     Intel   \n",
       "2    Mediacom   Notebook    13.3    4  Windows 10    1.35     Intel   \n",
       "3       Apple  Ultrabook    15.4   16       macOS    1.83     Intel   \n",
       "4          HP  Ultrabook    15.6    8  Windows 10    1.84     Intel   \n",
       "..        ...        ...     ...  ...         ...     ...       ...   \n",
       "386    Lenovo   Notebook    13.3    8  Windows 10    1.44     Intel   \n",
       "387      Dell  Ultrabook    13.3    8  Windows 10    1.20     Intel   \n",
       "388    Lenovo   Notebook    15.6    6  Windows 10    2.40     Intel   \n",
       "389        HP   Notebook    14.0    8   Windows 7    1.43     Intel   \n",
       "390    Lenovo   Notebook    15.6    8  Windows 10    1.99     Intel   \n",
       "\n",
       "    Memory_type  \n",
       "0           SSD  \n",
       "1           SSD  \n",
       "2         Flash  \n",
       "3           SSD  \n",
       "4           SSD  \n",
       "..          ...  \n",
       "386         SSD  \n",
       "387         SSD  \n",
       "388         SSD  \n",
       "389         SSD  \n",
       "390         SSD  \n",
       "\n",
       "[391 rows x 8 columns]"
      ]
     },
     "execution_count": 42,
     "metadata": {},
     "output_type": "execute_result"
    }
   ],
   "source": [
    "test_df"
   ]
  },
  {
   "cell_type": "markdown",
   "metadata": {},
   "source": [
    "### Convertir variables categóricas en dummies"
   ]
  },
  {
   "cell_type": "code",
   "execution_count": 43,
   "metadata": {},
   "outputs": [],
   "source": [
    "train_df = pd.get_dummies(train_df, drop_first=True)\n",
    "test_df = pd.get_dummies(test_df, drop_first=True)\n",
    "\n",
    "# Nos aseguramos que ambas tablas tengan las mismas columnas\n",
    "missing_cols = set(train_df.columns) - set(test_df.columns)\n",
    "for col in missing_cols:\n",
    "    test_df[col] = 0  # Agregar columnas faltantes con valor 0\n",
    "\n",
    "# Ordenamos columnas para que coincidan con el modelo\n",
    "test_df = test_df[train_df.drop(columns=[\"Price_euros\"]).columns]\n"
   ]
  },
  {
   "cell_type": "markdown",
   "metadata": {},
   "source": [
    "## División en Train y Validación"
   ]
  },
  {
   "cell_type": "code",
   "execution_count": 44,
   "metadata": {},
   "outputs": [],
   "source": [
    "# Separamos variables predictoras (X) y objetivo (y)\n",
    "X = train_df.drop(columns=[\"Price_euros\"])\n",
    "y = train_df[\"Price_euros\"]\n",
    "\n",
    "# División en conjuntos de entrenamiento (80%) y validación (20%)\n",
    "X_train, X_valid, y_train, y_valid = train_test_split(X, y, test_size=0.2, random_state=42)\n"
   ]
  },
  {
   "cell_type": "markdown",
   "metadata": {},
   "source": [
    "## Entrenar Modelos y Evaluar RMSE"
   ]
  },
  {
   "cell_type": "code",
   "execution_count": 45,
   "metadata": {},
   "outputs": [],
   "source": [
    "# Función para evaluar modelos usando RMSE\n",
    "def evaluate_model(model, X_train, y_train, X_valid, y_valid):\n",
    "    model.fit(X_train, y_train)\n",
    "    y_pred = model.predict(X_valid)\n",
    "    mse = mean_squared_error(y_valid, y_pred)  # Calcular MSE\n",
    "    rmse = np.sqrt(mse)  # Calcular RMSE manualmente\n",
    "    return rmse\n"
   ]
  },
  {
   "cell_type": "code",
   "execution_count": 58,
   "metadata": {},
   "outputs": [
    {
     "data": {
      "text/plain": [
       "np.float64(372.3285628657684)"
      ]
     },
     "execution_count": 58,
     "metadata": {},
     "output_type": "execute_result"
    }
   ],
   "source": [
    "# Calculamos RMSE del modelo Random Forest\n",
    "rmse_random_forest = evaluate_model(best_model, X_train, y_train, X_valid, y_valid)\n",
    "\n",
    "# Mostrar el RMSE calculado\n",
    "rmse_random_forest"
   ]
  },
  {
   "cell_type": "markdown",
   "metadata": {},
   "source": [
    "#### El RMSE del modelo Random Forest es: 372.33"
   ]
  },
  {
   "cell_type": "code",
   "execution_count": 59,
   "metadata": {},
   "outputs": [
    {
     "name": "stdout",
     "output_type": "stream",
     "text": [
      "✅ Archivo generado con éxito: /Users/josevillarroel/Desktop/Curso/DS102024/3-MachineLearning/2-Supervisado/Ejercicios/data/sample_submission copy.csv\n"
     ]
    }
   ],
   "source": [
    "# Guardamos el archivo en una ruta accesible\n",
    "submission_path = \"/Users/josevillarroel/Desktop/Curso/DS102024/3-MachineLearning/2-Supervisado/Ejercicios/data/sample_submission copy.csv\"\n",
    "submission.to_csv(submission_path, index=False)\n",
    "\n",
    "print(f\"✅ Archivo generado con éxito: {submission_path}\")\n"
   ]
  },
  {
   "cell_type": "markdown",
   "metadata": {},
   "source": [
    "### A este punto, seleccionamos el modelo con menor RMSE.\n",
    "\n"
   ]
  },
  {
   "cell_type": "markdown",
   "metadata": {},
   "source": [
    "## Generar Predicciones Finales"
   ]
  },
  {
   "cell_type": "code",
   "execution_count": 60,
   "metadata": {},
   "outputs": [
    {
     "name": "stdout",
     "output_type": "stream",
     "text": [
      "✅ Archivo submission.csv generado con éxito.\n"
     ]
    }
   ],
   "source": [
    "# Entrenamos el mejor modelo (Ejemplo: Random Forest)\n",
    "best_model = RandomForestRegressor(n_estimators=100, random_state=42)\n",
    "best_model.fit(X, y)\n",
    "\n",
    "# Hacemos predicciones en test.csv\n",
    "test_predictions = best_model.predict(test_df)\n",
    "\n",
    "# Creamos el archivo de submission.csv\n",
    "submission = pd.DataFrame({\"laptop_ID\": test_df.index, \"Price_euros\": test_predictions})\n",
    "submission.to_csv(\"/Users/josevillarroel/Desktop/Curso/DS102024/3-MachineLearning/2-Supervisado/Ejercicios/data/sample_submission copy.csv\", index=False)\n",
    "\n",
    "print(\"✅ Archivo submission.csv generado con éxito.\")\n"
   ]
  }
 ],
 "metadata": {
  "kernelspec": {
   "display_name": "myenv",
   "language": "python",
   "name": "python3"
  },
  "language_info": {
   "codemirror_mode": {
    "name": "ipython",
    "version": 3
   },
   "file_extension": ".py",
   "mimetype": "text/x-python",
   "name": "python",
   "nbconvert_exporter": "python",
   "pygments_lexer": "ipython3",
   "version": "3.13.0"
  }
 },
 "nbformat": 4,
 "nbformat_minor": 2
}
